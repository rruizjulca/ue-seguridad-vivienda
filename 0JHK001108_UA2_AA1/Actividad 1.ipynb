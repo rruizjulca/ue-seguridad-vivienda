{
 "cells": [
  {
   "cell_type": "markdown",
   "metadata": {
    "deletable": false,
    "editable": false,
    "nbgrader": {
     "checksum": "e8da009ad9ac3ca56723ea5e498dee14",
     "grade": false,
     "grade_id": "cell-ed2a5dbb38d52468",
     "locked": true,
     "schema_version": 1,
     "solution": false
    }
   },
   "source": [
    "# Campaña \"Seguro Vivienda\" de compañía financiera"
   ]
  },
  {
   "cell_type": "markdown",
   "metadata": {
    "deletable": false,
    "editable": false,
    "nbgrader": {
     "checksum": "fecd1202cdf3628d395822847eef8cf6",
     "grade": false,
     "grade_id": "cell-38459ea608c74e99",
     "locked": true,
     "schema_version": 1,
     "solution": false
    }
   },
   "source": [
    "Los correos a todos los potenciales clientes de un producto no son una estrategia de marketing efectiva, ya que muchos de ellos no están interesados. Identificando a los más propensos a contratar el producto se podría dirigir la campaña de marketing con mayor precisión y reducir su coste.\n",
    "\n",
    "La compañía financiera ofrece seguros, créditos, etc. y nos proporciona un listado de clientes a los que ha dirigido una campaña de marketing ofreciendo el nuevo producto “Seguro Vivienda”. En el fichero se encuentran los datos de dichos clientes, así como información de otros productos ya contratados y si contrataron el nuevo producto o no. También se dispone de un fichero con información sociodemográfica asociada a diferentes zonas de residencia.\n",
    "\n",
    "Se pide que planifiquemos una campaña más efectiva sobre un segundo conjunto de clientes, para lo que utilizaremos el primer conjunto para construir modelos predictivos que usaremos sobre el segundo conjunto para seleccionar los clientes más propensos a contratar el producto. Una vez seleccionados los candidatos, la compañía les ofrecerá el producto y medirá la eficacia del modelo según la proporción de ellos que lo contratan."
   ]
  },
  {
   "cell_type": "markdown",
   "metadata": {
    "deletable": false,
    "editable": false,
    "nbgrader": {
     "checksum": "9eac7c9cb107c92d571be38c143f71dc",
     "grade": false,
     "grade_id": "cell-282b598909a3dbcc",
     "locked": true,
     "schema_version": 1,
     "solution": false
    }
   },
   "source": [
    "## Conjuntos de datos"
   ]
  },
  {
   "cell_type": "markdown",
   "metadata": {
    "deletable": false,
    "editable": false,
    "nbgrader": {
     "checksum": "2705c3483bf4bead2597fc4ff1e9520a",
     "grade": false,
     "grade_id": "cell-419b51f273275864",
     "locked": true,
     "schema_version": 1,
     "solution": false
    }
   },
   "source": [
    "### Clientes"
   ]
  },
  {
   "cell_type": "markdown",
   "metadata": {
    "deletable": false,
    "editable": false,
    "nbgrader": {
     "checksum": "f20acbc4d387f7e4c80115711ca5eb27",
     "grade": false,
     "grade_id": "cell-d8f6f4d34067395d",
     "locked": true,
     "schema_version": 1,
     "solution": false
    }
   },
   "source": [
    "* ID_Cliente: identificador único del cliente\n",
    "* Fecha_Nacimiento: fecha de nacimiento del cliente\n",
    "* Fecha_Alta: fecha de alta del cliente\n",
    "* Sexo: sexo del cliente\n",
    "* ID_Zona: identificador único de zona de residencia\n",
    "* Productos_X: número de productos contratados por tipo\n",
    "* Gasto_X: gasto anual en los distintos productos\n",
    "* Seguro_Vivienda: el cliente contrató el producto ofrecido o no"
   ]
  },
  {
   "cell_type": "markdown",
   "metadata": {
    "deletable": false,
    "editable": false,
    "nbgrader": {
     "checksum": "518570867ca295fb885b93b1a9396733",
     "grade": false,
     "grade_id": "cell-818cf311a91deaa2",
     "locked": true,
     "schema_version": 1,
     "solution": false
    }
   },
   "source": [
    "### Zonas"
   ]
  },
  {
   "cell_type": "markdown",
   "metadata": {
    "deletable": false,
    "editable": false,
    "nbgrader": {
     "checksum": "03a66b1fad0e5e796a17f500798d87c3",
     "grade": false,
     "grade_id": "cell-d626faf64928537b",
     "locked": true,
     "schema_version": 1,
     "solution": false
    }
   },
   "source": [
    "* ID_Zona: identificador único de zona\n",
    "* Tipo_X: porcentaje de población por tipología familiar\n",
    "* Educacion_X: porcentaje de población por nivel de estudios\n",
    "* Poblacion_X: porcentaje de población por tipo de población\n",
    "* Vivienda_X: porcentaje de población por tipo de vivienda\n",
    "* Medico_X: porcentaje de población por tipo de seguro médico\n",
    "* Ingresos_X: porcentaje de población por nivel de ingresos"
   ]
  },
  {
   "cell_type": "markdown",
   "metadata": {
    "deletable": false,
    "editable": false,
    "nbgrader": {
     "checksum": "b86b14ca77c1642bd034bfe8466c11fa",
     "grade": false,
     "grade_id": "cell-334857c00c04d04a",
     "locked": true,
     "schema_version": 1,
     "solution": false
    }
   },
   "source": [
    "## Cruce de datos"
   ]
  },
  {
   "cell_type": "markdown",
   "metadata": {
    "deletable": false,
    "editable": false,
    "nbgrader": {
     "checksum": "9cf920be15e2d9c61dd142b6dd2fe0a4",
     "grade": false,
     "grade_id": "cell-7fa352c165d7cf4f",
     "locked": true,
     "schema_version": 1,
     "solution": false
    }
   },
   "source": [
    "Primero vamos a cruzar los datos de clientes con los datos de zonas, para tener toda la información en una sola tabla por cada cliente. En el siguiente código, deberás introducir en la variable 'datos_path' la ruta a la carpeta donde se encuentran los ficheros de datos, por ejemplo \"~/Escritorio\" si están en el escritorio."
   ]
  },
  {
   "cell_type": "code",
   "execution_count": null,
   "metadata": {
    "deletable": false,
    "nbgrader": {
     "checksum": "384535c1d895eee128b7202bcdda49b0",
     "grade": true,
     "grade_id": "cell-b161b955e80c119e",
     "locked": false,
     "points": 0,
     "schema_version": 1,
     "solution": true
    }
   },
   "outputs": [],
   "source": [
    "# YOUR CODE HERE\n",
    "raise NotImplementedError()"
   ]
  },
  {
   "cell_type": "code",
   "execution_count": null,
   "metadata": {
    "deletable": false,
    "editable": false,
    "nbgrader": {
     "checksum": "fcf2f36b896c1ac32e49f79584514ac9",
     "grade": false,
     "grade_id": "cell-0fc9218bd047292c",
     "locked": true,
     "schema_version": 1,
     "solution": false
    }
   },
   "outputs": [],
   "source": [
    "import pandas as pd\n",
    "import matplotlib.pyplot as plt\n",
    "\n",
    "import os\n",
    "\n",
    "%matplotlib inline\n",
    "\n",
    "clientes_file = \"Clientes_train.csv\"\n",
    "zonas_file = \"Zonas.csv\"\n",
    "\n",
    "clientes = pd.read_csv(os.path.join(datos_path, clientes_file), sep='\\t')\n",
    "zonas = pd.read_csv(os.path.join(datos_path, zonas_file), sep='\\t')\n",
    "\n",
    "datos = pd.merge(clientes, zonas, on=\"ID_Zona\", how=\"inner\")\n",
    "\n",
    "targets = datos[\"Seguro_Vivienda\"]\n",
    "variables = datos.drop([\"Seguro_Vivienda\"], axis=1, inplace=False)"
   ]
  },
  {
   "cell_type": "markdown",
   "metadata": {
    "deletable": false,
    "editable": false,
    "nbgrader": {
     "checksum": "4fd7300c2f5e514f7f1d5a20d256385a",
     "grade": false,
     "grade_id": "cell-2cb90124a03d2782",
     "locked": true,
     "schema_version": 1,
     "solution": false
    }
   },
   "source": [
    "## Estudio de datos"
   ]
  },
  {
   "cell_type": "markdown",
   "metadata": {
    "deletable": false,
    "editable": false,
    "nbgrader": {
     "checksum": "a8a4933a5d19b54fed6a0db2a335ea3a",
     "grade": false,
     "grade_id": "cell-bc84075c3714a532",
     "locked": true,
     "schema_version": 1,
     "solution": false
    }
   },
   "source": [
    "Hacemos un estudio de los datos con el objetivo de comprenderlos y encontrar en ellos posibles anomalías. Empezamos por una inspección visual de una muestra de filas de la tabla:"
   ]
  },
  {
   "cell_type": "code",
   "execution_count": null,
   "metadata": {
    "deletable": false,
    "editable": false,
    "nbgrader": {
     "checksum": "5f1089a4055eb5b64c168d4d4e86c984",
     "grade": false,
     "grade_id": "cell-8d65790100995403",
     "locked": true,
     "schema_version": 1,
     "solution": false
    }
   },
   "outputs": [],
   "source": [
    "variables.head()"
   ]
  },
  {
   "cell_type": "code",
   "execution_count": null,
   "metadata": {
    "deletable": false,
    "editable": false,
    "nbgrader": {
     "checksum": "33a4a2409fe80ddf71dd4c2b03918e54",
     "grade": false,
     "grade_id": "cell-6431f8a395042b55",
     "locked": true,
     "schema_version": 1,
     "solution": false
    }
   },
   "outputs": [],
   "source": [
    "targets.head()"
   ]
  },
  {
   "cell_type": "markdown",
   "metadata": {
    "deletable": false,
    "editable": false,
    "nbgrader": {
     "checksum": "1bbe81327160abb010035dafd11960a0",
     "grade": false,
     "grade_id": "cell-beca2a7771c59184",
     "locked": true,
     "schema_version": 1,
     "solution": false
    }
   },
   "source": [
    " Seguimos con un estudio de estadísticos básicos que nos indiquen el rango de valores de cada variable (columna) numérica:"
   ]
  },
  {
   "cell_type": "code",
   "execution_count": null,
   "metadata": {
    "deletable": false,
    "editable": false,
    "nbgrader": {
     "checksum": "72eb888bef02cc42bbcdb67aa0dcef9d",
     "grade": false,
     "grade_id": "cell-8ae12b4bf14c7c2b",
     "locked": true,
     "schema_version": 1,
     "solution": false
    }
   },
   "outputs": [],
   "source": [
    "variables.describe()"
   ]
  },
  {
   "cell_type": "code",
   "execution_count": null,
   "metadata": {
    "deletable": false,
    "editable": false,
    "nbgrader": {
     "checksum": "04254ea0e7214e5bb58a94f41c0691e2",
     "grade": false,
     "grade_id": "cell-e2a28cf0766d791a",
     "locked": true,
     "schema_version": 1,
     "solution": false
    }
   },
   "outputs": [],
   "source": [
    "targets.describe()"
   ]
  },
  {
   "cell_type": "markdown",
   "metadata": {
    "deletable": false,
    "editable": false,
    "nbgrader": {
     "checksum": "136c922ae20c5e0e2a7bd4decbbb2d93",
     "grade": false,
     "grade_id": "cell-0c2e40210fb4999c",
     "locked": true,
     "schema_version": 1,
     "solution": false
    }
   },
   "source": [
    "Podemos obtener detalles adicionales de cada variable individualmente:"
   ]
  },
  {
   "cell_type": "code",
   "execution_count": null,
   "metadata": {
    "deletable": false,
    "editable": false,
    "nbgrader": {
     "checksum": "bca8ff5972a7d5a0c3a852620fb278f6",
     "grade": false,
     "grade_id": "cell-260778b99845f0af",
     "locked": true,
     "schema_version": 1,
     "solution": false
    }
   },
   "outputs": [],
   "source": [
    "variables[\"Gasto_Vehiculos\"].median()"
   ]
  },
  {
   "cell_type": "code",
   "execution_count": null,
   "metadata": {
    "deletable": false,
    "editable": false,
    "nbgrader": {
     "checksum": "0fb1c74da931ef327abf98534cee07ca",
     "grade": false,
     "grade_id": "cell-564826376e9a65ea",
     "locked": true,
     "schema_version": 1,
     "solution": false
    }
   },
   "outputs": [],
   "source": [
    "fig = plt.figure()\n",
    "ax = fig.add_subplot(111)\n",
    "ax.hist(datos[\"Gasto_Vehiculos\"], bins = 10, range = (datos[\"Gasto_Vehiculos\"].min(), datos[\"Gasto_Vehiculos\"].max()))\n",
    "plt.title(\"Gasto Vehiculos\")\n",
    "plt.xlabel(\"Gasto Vehiculos\")\n",
    "plt.ylabel(\"Euros\")\n",
    "plt.show()"
   ]
  },
  {
   "cell_type": "code",
   "execution_count": null,
   "metadata": {
    "deletable": false,
    "editable": false,
    "nbgrader": {
     "checksum": "4d55cd066587273c0500513d54af6130",
     "grade": false,
     "grade_id": "cell-e2b34c113f71b4b8",
     "locked": true,
     "schema_version": 1,
     "solution": false
    }
   },
   "outputs": [],
   "source": [
    "variables.boxplot(column=\"Gasto_Vehiculos\")\n",
    "plt.show()"
   ]
  },
  {
   "cell_type": "markdown",
   "metadata": {
    "deletable": false,
    "editable": false,
    "nbgrader": {
     "checksum": "1a3b6ab4117d25ac23aaa640d292bcfd",
     "grade": false,
     "grade_id": "cell-be2f154e1bd4df4e",
     "locked": true,
     "schema_version": 1,
     "solution": false
    }
   },
   "source": [
    "También podemos obtener información de variables categóricas:"
   ]
  },
  {
   "cell_type": "code",
   "execution_count": null,
   "metadata": {
    "deletable": false,
    "editable": false,
    "nbgrader": {
     "checksum": "0b60b82f9811fe9c5c6bf214b65d0bcc",
     "grade": false,
     "grade_id": "cell-aa75c3e2ac1fc404",
     "locked": true,
     "schema_version": 1,
     "solution": false
    }
   },
   "outputs": [],
   "source": [
    "variables[\"Sexo\"].unique()"
   ]
  },
  {
   "cell_type": "code",
   "execution_count": null,
   "metadata": {
    "deletable": false,
    "editable": false,
    "nbgrader": {
     "checksum": "5056772e531eeaf94b8ce7e26927d468",
     "grade": false,
     "grade_id": "cell-61a66c0f924d39da",
     "locked": true,
     "schema_version": 1,
     "solution": false
    }
   },
   "outputs": [],
   "source": [
    "ax = variables[\"Sexo\"].value_counts().plot(kind=\"bar\")\n",
    "plt.title(\"Sexo\")\n",
    "plt.xlabel(\"Sexo\")\n",
    "plt.ylabel(\"Casos\")\n",
    "plt.show()"
   ]
  },
  {
   "cell_type": "code",
   "execution_count": null,
   "metadata": {
    "deletable": false,
    "editable": false,
    "nbgrader": {
     "checksum": "067283520557fbe1ec1ca7e8de6c588a",
     "grade": false,
     "grade_id": "cell-1e4541b22a596733",
     "locked": true,
     "schema_version": 1,
     "solution": false
    }
   },
   "outputs": [],
   "source": [
    "tmp = pd.crosstab([datos.Sexo], datos.Seguro_Vivienda)\n",
    "tmp.plot(kind='bar', stacked=True, color=['red','blue'], grid=False)"
   ]
  },
  {
   "cell_type": "code",
   "execution_count": null,
   "metadata": {
    "deletable": false,
    "editable": false,
    "nbgrader": {
     "checksum": "d62d1ffbbeffde23a65dd59e6fd25fda",
     "grade": false,
     "grade_id": "cell-491c5db5edf8ee41",
     "locked": true,
     "schema_version": 1,
     "solution": false
    }
   },
   "outputs": [],
   "source": [
    "variables.info()"
   ]
  },
  {
   "cell_type": "markdown",
   "metadata": {
    "deletable": false,
    "editable": false,
    "nbgrader": {
     "checksum": "cf200f0d416f79a41d03d90f60aabf45",
     "grade": false,
     "grade_id": "cell-fe8c7ee1289a7cc0",
     "locked": true,
     "schema_version": 1,
     "solution": false
    }
   },
   "source": [
    "## Selección de variables"
   ]
  },
  {
   "cell_type": "markdown",
   "metadata": {
    "deletable": false,
    "editable": false,
    "nbgrader": {
     "checksum": "9c48d83d5e1bd8748d6d2b0fbc18bc41",
     "grade": false,
     "grade_id": "cell-e8485aa1ddbbc8e3",
     "locked": true,
     "schema_version": 1,
     "solution": false
    }
   },
   "source": [
    "Hay diversos métodos que nos permiten identificar las mejores variables para resolver nuestro problema. Scikit permite identificar las mejores variables según diversos tests estadísticos, aunque para algunos de ellos debemos utilizar sólo las variables numéricas:"
   ]
  },
  {
   "cell_type": "code",
   "execution_count": null,
   "metadata": {
    "deletable": false,
    "editable": false,
    "nbgrader": {
     "checksum": "273546a1a9010f4d995b42b658be6d0a",
     "grade": false,
     "grade_id": "cell-472dcf08e5b52f04",
     "locked": true,
     "schema_version": 1,
     "solution": false
    }
   },
   "outputs": [],
   "source": [
    "from sklearn.feature_selection import SelectKBest\n",
    "from sklearn.feature_selection import chi2\n",
    "\n",
    "chi2 = SelectKBest(chi2, k=10).fit(variables._get_numeric_data(), targets)\n",
    "for (col, sel) in zip(variables._get_numeric_data().columns.values, chi2.get_support()):\n",
    "    if sel:\n",
    "        print(col)\n",
    "seleccion = chi2.transform(variables._get_numeric_data())"
   ]
  },
  {
   "cell_type": "markdown",
   "metadata": {
    "deletable": false,
    "editable": false,
    "nbgrader": {
     "checksum": "bdc96397d93f9799f168710dd3f387d1",
     "grade": false,
     "grade_id": "cell-148ab3eee6a2d674",
     "locked": true,
     "schema_version": 1,
     "solution": false
    }
   },
   "source": [
    "Veamos cómo queda representada una muestra del dataset respecto de las dos mejores variables:"
   ]
  },
  {
   "cell_type": "code",
   "execution_count": null,
   "metadata": {
    "deletable": false,
    "editable": false,
    "nbgrader": {
     "checksum": "ab84952e817586af47696b31470a8154",
     "grade": false,
     "grade_id": "cell-a7f665e370ea2906",
     "locked": true,
     "schema_version": 1,
     "solution": false
    }
   },
   "outputs": [],
   "source": [
    "import matplotlib.pyplot as plt\n",
    "from matplotlib.colors import ListedColormap\n",
    "\n",
    "cm = plt.cm.RdBu\n",
    "cm_bright = ListedColormap(['#FF0000', '#0000FF'])\n",
    "plt.scatter(seleccion[1:200, 0], seleccion[1:200, 1], c=targets[1:200], cmap=cm_bright)\n",
    "plt.show()"
   ]
  },
  {
   "cell_type": "markdown",
   "metadata": {
    "deletable": false,
    "editable": false,
    "nbgrader": {
     "checksum": "89190c7363bdfd2e069e1c6c0d79af0f",
     "grade": false,
     "grade_id": "cell-f828aa7bb39ae567",
     "locked": true,
     "schema_version": 1,
     "solution": false
    }
   },
   "source": [
    "Se puede ver cómo al representar las muestras respecto de estas dos variables, los casos de clientes que han contratado el producto se distinguen más fácilmente, ya que tienden a tener un valor alto en una de ellas (puntos azules). Por tanto, estas variables parecen ser buenas a la hora de distinguir casos positivos y negativos.\n",
    "\n",
    "Cuando el proceso de modelización es costoso, reducir el número de variables puede ser de gran ayuda. Las técnicas de selección de variables se usan ampliamente en los procesos de análisis de datos y modelización."
   ]
  },
  {
   "cell_type": "markdown",
   "metadata": {
    "deletable": false,
    "editable": false,
    "nbgrader": {
     "checksum": "d5f9ee2f44fc96ca0235b746094f5469",
     "grade": false,
     "grade_id": "cell-814f662dab59e9de",
     "locked": true,
     "schema_version": 1,
     "solution": false
    }
   },
   "source": [
    "## Transformación de variables"
   ]
  },
  {
   "cell_type": "markdown",
   "metadata": {
    "deletable": false,
    "editable": false,
    "nbgrader": {
     "checksum": "b6ff4f4d71e2ee5defa8e196797929e7",
     "grade": false,
     "grade_id": "cell-b83b1134327c3db6",
     "locked": true,
     "schema_version": 1,
     "solution": false
    }
   },
   "source": [
    "Es posible también realizar una transformación de variables, obteniendo combinaciones, normalmente lineales, de las variables originales que nos den mejores resultados al introducirlas en los modelos predictivos. SVD, PCA o ICA son algunos ejemplos:"
   ]
  },
  {
   "cell_type": "code",
   "execution_count": null,
   "metadata": {
    "deletable": false,
    "editable": false,
    "nbgrader": {
     "checksum": "2db51d3b5d66ab7ca5a7fc5bf18a5f49",
     "grade": false,
     "grade_id": "cell-713ea20a9df86165",
     "locked": true,
     "schema_version": 1,
     "solution": false
    }
   },
   "outputs": [],
   "source": [
    "from sklearn.decomposition import PCA\n",
    "\n",
    "pca = PCA(n_components=10)\n",
    "pca.fit(variables._get_numeric_data())\n",
    "print(pca.components_)\n",
    "print(pca.explained_variance_ratio_)\n",
    "transformacion = pca.transform(variables._get_numeric_data())"
   ]
  },
  {
   "cell_type": "markdown",
   "metadata": {
    "deletable": false,
    "editable": false,
    "nbgrader": {
     "checksum": "33bb19a098625607c684167d0e7fce35",
     "grade": false,
     "grade_id": "cell-ce750501d5c3a459",
     "locked": true,
     "schema_version": 1,
     "solution": false
    }
   },
   "source": [
    "Veamos cómo queda representada una muestra del dataset respecto de las dos mejores variables sintéticas:"
   ]
  },
  {
   "cell_type": "code",
   "execution_count": null,
   "metadata": {
    "deletable": false,
    "editable": false,
    "nbgrader": {
     "checksum": "40076e765768dd917fa47c73ee89346b",
     "grade": false,
     "grade_id": "cell-308e5c9af16146f8",
     "locked": true,
     "schema_version": 1,
     "solution": false
    }
   },
   "outputs": [],
   "source": [
    "cm = plt.cm.RdBu\n",
    "cm_bright = ListedColormap(['#FF0000', '#0000FF'])\n",
    "plt.scatter(transformacion[1:200, 0], transformacion[1:200, 1], c=targets[1:200], cmap=cm_bright)\n",
    "plt.show()"
   ]
  },
  {
   "cell_type": "markdown",
   "metadata": {
    "deletable": false,
    "editable": false,
    "nbgrader": {
     "checksum": "8a7995a53d0e32e834a7ec32a28949ce",
     "grade": false,
     "grade_id": "cell-b71f14f505362d49",
     "locked": true,
     "schema_version": 1,
     "solution": false
    }
   },
   "source": [
    "Como en el caso anterior, se puede ver que los casos positivos se pueden separar más fácilmente de los negativos al quedar la mayoría de ellos a la derecha de la gráfica.\n",
    "\n",
    "Es habitual que las variables sintéticas generadas con métodos como PCA sean incluso mejores que las mejores variables seleccionadas con otras técnicas. Como contrapartida, el cálculo de estas variables es costoso y suele ser difícil darles un sentido de negocio."
   ]
  },
  {
   "cell_type": "markdown",
   "metadata": {
    "deletable": false,
    "editable": false,
    "nbgrader": {
     "checksum": "4ae2ec94c245a71e5a27519f3e255a5b",
     "grade": false,
     "grade_id": "cell-0af4b779c21d3c08",
     "locked": true,
     "schema_version": 1,
     "solution": false
    }
   },
   "source": [
    "¿Podrías probar varias técnicas de selección y transformación de variables? Ten en cuenta que no sólo es importante lo buenas que sean las variables finales para la predicción, sino también que el coste de calcularlas sea razonable y que seas capaz de explicar y justificar estas variables en caso de que el cliente lo solicite.\n",
    "\n",
    "* http://scikit-learn.org/stable/modules/feature_selection.html\n",
    "* http://scikit-learn.org/stable/modules/decomposition.html"
   ]
  },
  {
   "cell_type": "code",
   "execution_count": null,
   "metadata": {
    "deletable": false,
    "nbgrader": {
     "checksum": "57b5c3ba1b2ab2d6587fdfb5179e5871",
     "grade": true,
     "grade_id": "cell-91b32683a97b0a80",
     "locked": false,
     "points": 3,
     "schema_version": 1,
     "solution": true
    }
   },
   "outputs": [],
   "source": [
    "# YOUR CODE HERE\n",
    "raise NotImplementedError()"
   ]
  },
  {
   "cell_type": "markdown",
   "metadata": {
    "deletable": false,
    "editable": false,
    "nbgrader": {
     "checksum": "10597da066304af497f5740b1fdff162",
     "grade": false,
     "grade_id": "cell-68e7dac2d2208f26",
     "locked": true,
     "schema_version": 1,
     "solution": false
    }
   },
   "source": [
    "## Entrenamiento del modelo"
   ]
  },
  {
   "cell_type": "markdown",
   "metadata": {
    "deletable": false,
    "editable": false,
    "nbgrader": {
     "checksum": "19926abb1c3b3d8b79b93ba5f4b51bc1",
     "grade": false,
     "grade_id": "cell-74db65134c61b716",
     "locked": true,
     "schema_version": 1,
     "solution": false
    }
   },
   "source": [
    "No es evidente cuál es el mejor tipo de modelo para resolver nuestro problema. Por lo tanto, empezaremos con los modelos más sencillos y estables, los modelos lineales. Si los resultados no son suficientemente buenos, probaremos modelos más complejos."
   ]
  },
  {
   "cell_type": "markdown",
   "metadata": {
    "deletable": false,
    "editable": false,
    "nbgrader": {
     "checksum": "72150111f1883ca439b051c9cdc20ed7",
     "grade": false,
     "grade_id": "cell-3455f3301f3a30fd",
     "locked": true,
     "schema_version": 1,
     "solution": false
    }
   },
   "source": [
    "Utilizaremos las variables originales, seleccionadas o transformadas y estudiaremos medidas de calidad como la precisión y el \"recall\" para evaluar cada uno de los modelos. Para ello, dividiremos el conjunto de datos de entrenamiento de modo que los primeros 2000 patrones servirán para entrenar los modelos, y el resto para validar:"
   ]
  },
  {
   "cell_type": "code",
   "execution_count": null,
   "metadata": {
    "deletable": false,
    "editable": false,
    "nbgrader": {
     "checksum": "16fc1c41789e2873165dd20e67de3fee",
     "grade": false,
     "grade_id": "cell-7a8f6cda1dd92fae",
     "locked": true,
     "schema_version": 1,
     "solution": false
    }
   },
   "outputs": [],
   "source": [
    "import numpy as np\n",
    "\n",
    "from sklearn.metrics import classification_report\n",
    "\n",
    "X_train = variables._get_numeric_data()[1:2000]\n",
    "X_val = variables._get_numeric_data()[2001:]\n",
    "y_train = targets[1:2000]\n",
    "y_val = targets[2001:]"
   ]
  },
  {
   "cell_type": "markdown",
   "metadata": {
    "deletable": false,
    "editable": false,
    "nbgrader": {
     "checksum": "5a7519248e540daf4cd8546587b09b1a",
     "grade": false,
     "grade_id": "cell-d63d25014c5247b3",
     "locked": true,
     "schema_version": 1,
     "solution": false
    }
   },
   "source": [
    "El primer modelo a probar serán la regresión logística:"
   ]
  },
  {
   "cell_type": "code",
   "execution_count": null,
   "metadata": {
    "deletable": false,
    "editable": false,
    "nbgrader": {
     "checksum": "16967776d987eb2da87071ad48a60337",
     "grade": false,
     "grade_id": "cell-cb11a6f054f4b763",
     "locked": true,
     "schema_version": 1,
     "solution": false
    }
   },
   "outputs": [],
   "source": [
    "from sklearn.linear_model import LogisticRegression\n",
    "from sklearn.pipeline import Pipeline\n",
    "from sklearn.preprocessing import StandardScaler\n",
    "\n",
    "logr = Pipeline([('std', StandardScaler()), ('lr', LogisticRegression())])\n",
    "logr.fit(X_train, y_train)\n",
    "print(classification_report(y_val, logr.predict(X_val)))"
   ]
  },
  {
   "cell_type": "markdown",
   "metadata": {
    "deletable": false,
    "editable": false,
    "nbgrader": {
     "checksum": "dcbcb7ea4566ac1097ed99ee66c246bb",
     "grade": false,
     "grade_id": "cell-c48ab6ab4da1132b",
     "locked": true,
     "schema_version": 1,
     "solution": false
    }
   },
   "source": [
    "Vemos que los modelos lineales tienden a clasificar los patrones de la clase minoritaria como pertenecientes a la clase mayoritaria, por lo que vamos a probar con modelos también sencillos pero no lineales, como árboles de decisión, con la esperanza de obtener mejores resultados:"
   ]
  },
  {
   "cell_type": "code",
   "execution_count": null,
   "metadata": {
    "deletable": false,
    "editable": false,
    "nbgrader": {
     "checksum": "af5b1a3208a39754fb82f95a2f34f14e",
     "grade": false,
     "grade_id": "cell-a43b15150531ce04",
     "locked": true,
     "schema_version": 1,
     "solution": false
    }
   },
   "outputs": [],
   "source": [
    "from sklearn.tree import DecisionTreeClassifier\n",
    "\n",
    "t = DecisionTreeClassifier()\n",
    "t.fit(X_train, y_train)\n",
    "print(classification_report(y_val, t.predict(X_val)))"
   ]
  },
  {
   "cell_type": "markdown",
   "metadata": {
    "deletable": false,
    "editable": false,
    "nbgrader": {
     "checksum": "5b87188b1481a620dd02511ab22f4a4b",
     "grade": false,
     "grade_id": "cell-8581a785a4f4700f",
     "locked": true,
     "schema_version": 1,
     "solution": false
    }
   },
   "source": [
    "Elegir qué modelo utilizar y ajustarlo no es una tarea fácil. Habitualmente se prueban modelos sencillos y se va subiendo en complejidad si los resultados no son todo lo buenos que nos gustaría. La búsqueda de meta-parámetros es un proceso complejo que habitualmente necesita de cierta experiencia y conocimiento de los modelos.\n",
    "\n",
    "Intenta mejorar los resultados vistos hasta ahora eligiendo alguno de los modelos e intentando ajustar sus meta-parámetros. Puedes probar a combinar técnicas de selección o transformación de variables con los modelos predictivos, con la ayuda de los pipelines de Scikit-learn.\n",
    "\n",
    "* http://scikit-learn.org/stable/modules/linear_model.html\n",
    "* http://scikit-learn.org/stable/modules/neural_network.html\n",
    "* http://scikit-learn.org/stable/modules/tree.html\n",
    "* http://scikit-learn.org/stable/modules/svm.html\n",
    "* http://en.wikipedia.org/wiki/Precision_and_recall"
   ]
  },
  {
   "cell_type": "code",
   "execution_count": null,
   "metadata": {
    "deletable": false,
    "nbgrader": {
     "checksum": "89ea2f8920a8fc7c8281aa78184478b7",
     "grade": true,
     "grade_id": "cell-af42990ea25cade7",
     "locked": false,
     "points": 4,
     "schema_version": 1,
     "solution": true
    }
   },
   "outputs": [],
   "source": [
    "# YOUR CODE HERE\n",
    "raise NotImplementedError()"
   ]
  },
  {
   "cell_type": "markdown",
   "metadata": {
    "deletable": false,
    "editable": false,
    "nbgrader": {
     "checksum": "0328a1963e2b733c5988941e0f3d8cdd",
     "grade": false,
     "grade_id": "cell-4d806d8511ceb9ea",
     "locked": true,
     "schema_version": 1,
     "solution": false
    }
   },
   "source": [
    "## Evaluación del modelo"
   ]
  },
  {
   "cell_type": "markdown",
   "metadata": {
    "deletable": false,
    "editable": false,
    "nbgrader": {
     "checksum": "6ca4fce12d6f9451f49e1152c5c3eae4",
     "grade": false,
     "grade_id": "cell-b20fe9034a99937c",
     "locked": true,
     "schema_version": 1,
     "solution": false
    }
   },
   "source": [
    "Ya vimos en el apartado anterior algunos indicadores de la calidad del modelo. También podemos utilizar gráficas como la curva precisión-recall o la curva ROC:"
   ]
  },
  {
   "cell_type": "code",
   "execution_count": null,
   "metadata": {
    "deletable": false,
    "editable": false,
    "nbgrader": {
     "checksum": "53b88f79d7be69f645dbbfce16f35381",
     "grade": false,
     "grade_id": "cell-b7cf668babbe143f",
     "locked": true,
     "schema_version": 1,
     "solution": false
    }
   },
   "outputs": [],
   "source": [
    "from sklearn.metrics import precision_recall_curve, roc_curve, auc\n",
    "\n",
    "precision, recall, thresholds = precision_recall_curve(y_val, logr.predict(X_val))\n",
    "pr_auc = auc(precision, recall)\n",
    "plt.figure()\n",
    "plt.plot(precision, recall, label='Precision-recall curve (area = %0.2f)' % pr_auc)\n",
    "plt.plot([0, 1], [0, 1], 'k--')\n",
    "plt.xlim([0.0, 1.0])\n",
    "plt.ylim([0.0, 1.0])\n",
    "plt.xlabel('Precision')\n",
    "plt.ylabel('Recall')\n",
    "plt.title('Precision-recall curve')\n",
    "plt.legend(loc=\"lower right\")\n",
    "plt.show()\n",
    "\n",
    "fpr, tpr, thresholds = roc_curve(y_val, logr.predict_proba(X_val)[:, 1])\n",
    "roc_auc = auc(fpr, tpr)\n",
    "plt.figure()\n",
    "plt.plot(fpr, tpr, label='ROC curve (area = %0.2f)' % roc_auc)\n",
    "plt.plot([0, 1], [0, 1], 'k--')\n",
    "plt.xlim([0.0, 1.0])\n",
    "plt.ylim([0.0, 1.0])\n",
    "plt.xlabel('False Positive Rate')\n",
    "plt.ylabel('True Positive Rate')\n",
    "plt.title('ROC curve')\n",
    "plt.legend(loc=\"lower right\")\n",
    "plt.show()"
   ]
  },
  {
   "cell_type": "markdown",
   "metadata": {
    "deletable": false,
    "editable": false,
    "nbgrader": {
     "checksum": "7e220248520fd90c195ec83121c87216",
     "grade": false,
     "grade_id": "cell-17691bc4a1f832c1",
     "locked": true,
     "schema_version": 1,
     "solution": false
    }
   },
   "source": [
    "Es muy habitual utilizar estas gráficas, especialmente la curva ROC, para decidir si los resultados son satisfactorios. Cuanto mayor sea el área que queda bajo la curva, mejores son los resultados del modelo que estamos probando."
   ]
  },
  {
   "cell_type": "markdown",
   "metadata": {
    "deletable": false,
    "editable": false,
    "nbgrader": {
     "checksum": "5295a3442d164918777987b6ae47ffe4",
     "grade": false,
     "grade_id": "cell-236e2d957e5f7944",
     "locked": true,
     "schema_version": 1,
     "solution": false
    }
   },
   "source": [
    "Utiliza gráficas (estas u otras que puedas encontrar útiles) para hacer una valoración final de los resultados. Razona las conclusiones.\n",
    "\n",
    "* http://scikit-learn.org/stable/modules/model_evaluation.html\n",
    "* http://scikit-learn.org/stable/modules/classes.html#module-sklearn.metrics"
   ]
  },
  {
   "cell_type": "code",
   "execution_count": null,
   "metadata": {
    "deletable": false,
    "nbgrader": {
     "checksum": "8d40558ed09a91d46b3c8dd306a43d81",
     "grade": true,
     "grade_id": "cell-938cb7fd3bbc7bef",
     "locked": false,
     "points": 3,
     "schema_version": 1,
     "solution": true
    }
   },
   "outputs": [],
   "source": [
    "# YOUR CODE HERE\n",
    "raise NotImplementedError()"
   ]
  }
 ],
 "metadata": {
  "kernelspec": {
   "display_name": "Python 3",
   "language": "python",
   "name": "python3"
  },
  "language_info": {
   "codemirror_mode": {
    "name": "ipython",
    "version": 3
   },
   "file_extension": ".py",
   "mimetype": "text/x-python",
   "name": "python",
   "nbconvert_exporter": "python",
   "pygments_lexer": "ipython3",
   "version": "3.7.10"
  }
 },
 "nbformat": 4,
 "nbformat_minor": 2
}
